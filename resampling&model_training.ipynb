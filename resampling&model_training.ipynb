{
 "cells": [
  {
   "cell_type": "code",
   "execution_count": 20,
   "metadata": {},
   "outputs": [],
   "source": [
    "import pandas as pd\n",
    "import joblib\n",
    "\n",
    "from imblearn.over_sampling import RandomOverSampler\n",
    "from imblearn.over_sampling import SMOTE\n",
    "from imblearn.over_sampling import BorderlineSMOTE\n",
    "\n",
    "from imblearn.under_sampling import RandomUnderSampler\n",
    "from imblearn.under_sampling import NearMiss\n",
    "from imblearn.under_sampling import OneSidedSelection\n",
    "\n",
    "from imblearn.combine import SMOTETomek\n",
    "\n",
    "from sklearn.ensemble import RandomForestClassifier\n",
    "from sklearn.linear_model import LogisticRegression\n",
    "from sklearn.naive_bayes import GaussianNB\n",
    "import xgboost"
   ]
  },
  {
   "cell_type": "code",
   "execution_count": 3,
   "metadata": {},
   "outputs": [
    {
     "name": "stderr",
     "output_type": "stream",
     "text": [
      "/var/folders/gm/vdq6g76x11l24y8k6gvx9kgm0000gn/T/ipykernel_74606/518740692.py:1: DtypeWarning: Columns (0) have mixed types. Specify dtype option on import or set low_memory=False.\n",
      "  combined_dataset_1920 = pd.read_csv('dataset_of_1920_combination.csv', sep=',')\n"
     ]
    },
    {
     "data": {
      "text/html": [
       "<div>\n",
       "<style scoped>\n",
       "    .dataframe tbody tr th:only-of-type {\n",
       "        vertical-align: middle;\n",
       "    }\n",
       "\n",
       "    .dataframe tbody tr th {\n",
       "        vertical-align: top;\n",
       "    }\n",
       "\n",
       "    .dataframe thead th {\n",
       "        text-align: right;\n",
       "    }\n",
       "</style>\n",
       "<table border=\"1\" class=\"dataframe\">\n",
       "  <thead>\n",
       "    <tr style=\"text-align: right;\">\n",
       "      <th></th>\n",
       "      <th>Rndrng_Prvdr_State_FIPS</th>\n",
       "      <th>Tot_HCPCS_Cds</th>\n",
       "      <th>Tot_Benes_x</th>\n",
       "      <th>Tot_Srvcs</th>\n",
       "      <th>Tot_Sbmtd_Chrg</th>\n",
       "      <th>Tot_Mdcr_Pymt_Amt</th>\n",
       "      <th>Bene_Avg_Risk_Scre</th>\n",
       "      <th>Exclusion</th>\n",
       "      <th>Rndrng_Prvdr_Gndr_F</th>\n",
       "      <th>Rndrng_Prvdr_Gndr_M</th>\n",
       "      <th>...</th>\n",
       "      <th>Tot_Suplrs</th>\n",
       "      <th>Tot_Suplr_HCPCS_Cds</th>\n",
       "      <th>Tot_Suplr_Benes</th>\n",
       "      <th>Tot_Suplr_Clms</th>\n",
       "      <th>Tot_Suplr_Srvcs</th>\n",
       "      <th>Suplr_Sbmtd_Chrgs</th>\n",
       "      <th>Suplr_Mdcr_Pymt_Amt</th>\n",
       "      <th>Rndrng_Prvdr_Type_Adult Congenital Heart Disease</th>\n",
       "      <th>Rndrng_Prvdr_Type_Micrographic Dermatologic Surgery</th>\n",
       "      <th>Rndrng_Prvdr_Type_Opioid Treatment Program</th>\n",
       "    </tr>\n",
       "  </thead>\n",
       "  <tbody>\n",
       "    <tr>\n",
       "      <th>0</th>\n",
       "      <td>12.0</td>\n",
       "      <td>46</td>\n",
       "      <td>374</td>\n",
       "      <td>1319.0</td>\n",
       "      <td>349343.44</td>\n",
       "      <td>86736.63</td>\n",
       "      <td>1.3234</td>\n",
       "      <td>0</td>\n",
       "      <td>0</td>\n",
       "      <td>1</td>\n",
       "      <td>...</td>\n",
       "      <td>26</td>\n",
       "      <td>34</td>\n",
       "      <td>34.0</td>\n",
       "      <td>114</td>\n",
       "      <td>1206</td>\n",
       "      <td>29842.66</td>\n",
       "      <td>5031.72</td>\n",
       "      <td>0.0</td>\n",
       "      <td>0.0</td>\n",
       "      <td>0.0</td>\n",
       "    </tr>\n",
       "    <tr>\n",
       "      <th>1</th>\n",
       "      <td>42.0</td>\n",
       "      <td>33</td>\n",
       "      <td>347</td>\n",
       "      <td>1485.0</td>\n",
       "      <td>234676.00</td>\n",
       "      <td>112451.04</td>\n",
       "      <td>1.1311</td>\n",
       "      <td>0</td>\n",
       "      <td>1</td>\n",
       "      <td>0</td>\n",
       "      <td>...</td>\n",
       "      <td>24</td>\n",
       "      <td>50</td>\n",
       "      <td>26.0</td>\n",
       "      <td>104</td>\n",
       "      <td>2675</td>\n",
       "      <td>31837.89</td>\n",
       "      <td>9933.55</td>\n",
       "      <td>0.0</td>\n",
       "      <td>0.0</td>\n",
       "      <td>0.0</td>\n",
       "    </tr>\n",
       "    <tr>\n",
       "      <th>2</th>\n",
       "      <td>40.0</td>\n",
       "      <td>117</td>\n",
       "      <td>796</td>\n",
       "      <td>3948.0</td>\n",
       "      <td>951912.50</td>\n",
       "      <td>242309.70</td>\n",
       "      <td>1.7276</td>\n",
       "      <td>0</td>\n",
       "      <td>0</td>\n",
       "      <td>1</td>\n",
       "      <td>...</td>\n",
       "      <td>4</td>\n",
       "      <td>7</td>\n",
       "      <td>27.0</td>\n",
       "      <td>14</td>\n",
       "      <td>2996</td>\n",
       "      <td>18329.76</td>\n",
       "      <td>5069.78</td>\n",
       "      <td>0.0</td>\n",
       "      <td>0.0</td>\n",
       "      <td>0.0</td>\n",
       "    </tr>\n",
       "    <tr>\n",
       "      <th>3</th>\n",
       "      <td>21.0</td>\n",
       "      <td>34</td>\n",
       "      <td>316</td>\n",
       "      <td>1084.0</td>\n",
       "      <td>153117.00</td>\n",
       "      <td>57786.41</td>\n",
       "      <td>1.2579</td>\n",
       "      <td>0</td>\n",
       "      <td>1</td>\n",
       "      <td>0</td>\n",
       "      <td>...</td>\n",
       "      <td>39</td>\n",
       "      <td>52</td>\n",
       "      <td>49.0</td>\n",
       "      <td>258</td>\n",
       "      <td>6973</td>\n",
       "      <td>57056.42</td>\n",
       "      <td>15717.85</td>\n",
       "      <td>0.0</td>\n",
       "      <td>0.0</td>\n",
       "      <td>0.0</td>\n",
       "    </tr>\n",
       "    <tr>\n",
       "      <th>4</th>\n",
       "      <td>6.0</td>\n",
       "      <td>50</td>\n",
       "      <td>1106</td>\n",
       "      <td>16709.0</td>\n",
       "      <td>1591367.95</td>\n",
       "      <td>499766.65</td>\n",
       "      <td>1.8536</td>\n",
       "      <td>0</td>\n",
       "      <td>0</td>\n",
       "      <td>1</td>\n",
       "      <td>...</td>\n",
       "      <td>5</td>\n",
       "      <td>9</td>\n",
       "      <td>56.0</td>\n",
       "      <td>63</td>\n",
       "      <td>82</td>\n",
       "      <td>132101.35</td>\n",
       "      <td>58877.43</td>\n",
       "      <td>0.0</td>\n",
       "      <td>0.0</td>\n",
       "      <td>0.0</td>\n",
       "    </tr>\n",
       "    <tr>\n",
       "      <th>...</th>\n",
       "      <td>...</td>\n",
       "      <td>...</td>\n",
       "      <td>...</td>\n",
       "      <td>...</td>\n",
       "      <td>...</td>\n",
       "      <td>...</td>\n",
       "      <td>...</td>\n",
       "      <td>...</td>\n",
       "      <td>...</td>\n",
       "      <td>...</td>\n",
       "      <td>...</td>\n",
       "      <td>...</td>\n",
       "      <td>...</td>\n",
       "      <td>...</td>\n",
       "      <td>...</td>\n",
       "      <td>...</td>\n",
       "      <td>...</td>\n",
       "      <td>...</td>\n",
       "      <td>...</td>\n",
       "      <td>...</td>\n",
       "      <td>...</td>\n",
       "    </tr>\n",
       "    <tr>\n",
       "      <th>677551</th>\n",
       "      <td>48</td>\n",
       "      <td>37</td>\n",
       "      <td>365</td>\n",
       "      <td>2272.0</td>\n",
       "      <td>587582.00</td>\n",
       "      <td>157754.65</td>\n",
       "      <td>1.6362</td>\n",
       "      <td>0</td>\n",
       "      <td>1</td>\n",
       "      <td>0</td>\n",
       "      <td>...</td>\n",
       "      <td>35</td>\n",
       "      <td>67</td>\n",
       "      <td>46.0</td>\n",
       "      <td>180</td>\n",
       "      <td>4981</td>\n",
       "      <td>107216.47</td>\n",
       "      <td>28209.50</td>\n",
       "      <td>0.0</td>\n",
       "      <td>0.0</td>\n",
       "      <td>0.0</td>\n",
       "    </tr>\n",
       "    <tr>\n",
       "      <th>677552</th>\n",
       "      <td>12</td>\n",
       "      <td>50</td>\n",
       "      <td>138</td>\n",
       "      <td>769.0</td>\n",
       "      <td>109972.88</td>\n",
       "      <td>40893.46</td>\n",
       "      <td>0.9913</td>\n",
       "      <td>0</td>\n",
       "      <td>0</td>\n",
       "      <td>1</td>\n",
       "      <td>...</td>\n",
       "      <td>12</td>\n",
       "      <td>17</td>\n",
       "      <td>11.0</td>\n",
       "      <td>35</td>\n",
       "      <td>384</td>\n",
       "      <td>11429.84</td>\n",
       "      <td>2628.15</td>\n",
       "      <td>0.0</td>\n",
       "      <td>0.0</td>\n",
       "      <td>0.0</td>\n",
       "    </tr>\n",
       "    <tr>\n",
       "      <th>677553</th>\n",
       "      <td>12</td>\n",
       "      <td>34</td>\n",
       "      <td>1215</td>\n",
       "      <td>6097.0</td>\n",
       "      <td>696266.98</td>\n",
       "      <td>390895.36</td>\n",
       "      <td>1.2452</td>\n",
       "      <td>0</td>\n",
       "      <td>0</td>\n",
       "      <td>1</td>\n",
       "      <td>...</td>\n",
       "      <td>47</td>\n",
       "      <td>56</td>\n",
       "      <td>86.0</td>\n",
       "      <td>502</td>\n",
       "      <td>11743</td>\n",
       "      <td>173452.58</td>\n",
       "      <td>34539.16</td>\n",
       "      <td>0.0</td>\n",
       "      <td>0.0</td>\n",
       "      <td>0.0</td>\n",
       "    </tr>\n",
       "    <tr>\n",
       "      <th>677554</th>\n",
       "      <td>6</td>\n",
       "      <td>40</td>\n",
       "      <td>333</td>\n",
       "      <td>1093.0</td>\n",
       "      <td>182515.00</td>\n",
       "      <td>68252.03</td>\n",
       "      <td>1.2418</td>\n",
       "      <td>0</td>\n",
       "      <td>1</td>\n",
       "      <td>0</td>\n",
       "      <td>...</td>\n",
       "      <td>11</td>\n",
       "      <td>27</td>\n",
       "      <td>14.0</td>\n",
       "      <td>55</td>\n",
       "      <td>322</td>\n",
       "      <td>19471.42</td>\n",
       "      <td>4794.00</td>\n",
       "      <td>0.0</td>\n",
       "      <td>0.0</td>\n",
       "      <td>0.0</td>\n",
       "    </tr>\n",
       "    <tr>\n",
       "      <th>677555</th>\n",
       "      <td>51</td>\n",
       "      <td>15</td>\n",
       "      <td>407</td>\n",
       "      <td>884.0</td>\n",
       "      <td>340479.02</td>\n",
       "      <td>74063.76</td>\n",
       "      <td>2.7672</td>\n",
       "      <td>0</td>\n",
       "      <td>1</td>\n",
       "      <td>0</td>\n",
       "      <td>...</td>\n",
       "      <td>6</td>\n",
       "      <td>8</td>\n",
       "      <td>26.0</td>\n",
       "      <td>38</td>\n",
       "      <td>55</td>\n",
       "      <td>6707.76</td>\n",
       "      <td>1430.87</td>\n",
       "      <td>0.0</td>\n",
       "      <td>0.0</td>\n",
       "      <td>0.0</td>\n",
       "    </tr>\n",
       "  </tbody>\n",
       "</table>\n",
       "<p>677556 rows × 126 columns</p>\n",
       "</div>"
      ],
      "text/plain": [
       "       Rndrng_Prvdr_State_FIPS  Tot_HCPCS_Cds  Tot_Benes_x  Tot_Srvcs  \\\n",
       "0                         12.0             46          374     1319.0   \n",
       "1                         42.0             33          347     1485.0   \n",
       "2                         40.0            117          796     3948.0   \n",
       "3                         21.0             34          316     1084.0   \n",
       "4                          6.0             50         1106    16709.0   \n",
       "...                        ...            ...          ...        ...   \n",
       "677551                      48             37          365     2272.0   \n",
       "677552                      12             50          138      769.0   \n",
       "677553                      12             34         1215     6097.0   \n",
       "677554                       6             40          333     1093.0   \n",
       "677555                      51             15          407      884.0   \n",
       "\n",
       "        Tot_Sbmtd_Chrg  Tot_Mdcr_Pymt_Amt  Bene_Avg_Risk_Scre  Exclusion  \\\n",
       "0            349343.44           86736.63              1.3234          0   \n",
       "1            234676.00          112451.04              1.1311          0   \n",
       "2            951912.50          242309.70              1.7276          0   \n",
       "3            153117.00           57786.41              1.2579          0   \n",
       "4           1591367.95          499766.65              1.8536          0   \n",
       "...                ...                ...                 ...        ...   \n",
       "677551       587582.00          157754.65              1.6362          0   \n",
       "677552       109972.88           40893.46              0.9913          0   \n",
       "677553       696266.98          390895.36              1.2452          0   \n",
       "677554       182515.00           68252.03              1.2418          0   \n",
       "677555       340479.02           74063.76              2.7672          0   \n",
       "\n",
       "        Rndrng_Prvdr_Gndr_F  Rndrng_Prvdr_Gndr_M  ...  Tot_Suplrs  \\\n",
       "0                         0                    1  ...          26   \n",
       "1                         1                    0  ...          24   \n",
       "2                         0                    1  ...           4   \n",
       "3                         1                    0  ...          39   \n",
       "4                         0                    1  ...           5   \n",
       "...                     ...                  ...  ...         ...   \n",
       "677551                    1                    0  ...          35   \n",
       "677552                    0                    1  ...          12   \n",
       "677553                    0                    1  ...          47   \n",
       "677554                    1                    0  ...          11   \n",
       "677555                    1                    0  ...           6   \n",
       "\n",
       "        Tot_Suplr_HCPCS_Cds  Tot_Suplr_Benes  Tot_Suplr_Clms  Tot_Suplr_Srvcs  \\\n",
       "0                        34             34.0             114             1206   \n",
       "1                        50             26.0             104             2675   \n",
       "2                         7             27.0              14             2996   \n",
       "3                        52             49.0             258             6973   \n",
       "4                         9             56.0              63               82   \n",
       "...                     ...              ...             ...              ...   \n",
       "677551                   67             46.0             180             4981   \n",
       "677552                   17             11.0              35              384   \n",
       "677553                   56             86.0             502            11743   \n",
       "677554                   27             14.0              55              322   \n",
       "677555                    8             26.0              38               55   \n",
       "\n",
       "        Suplr_Sbmtd_Chrgs  Suplr_Mdcr_Pymt_Amt  \\\n",
       "0                29842.66              5031.72   \n",
       "1                31837.89              9933.55   \n",
       "2                18329.76              5069.78   \n",
       "3                57056.42             15717.85   \n",
       "4               132101.35             58877.43   \n",
       "...                   ...                  ...   \n",
       "677551          107216.47             28209.50   \n",
       "677552           11429.84              2628.15   \n",
       "677553          173452.58             34539.16   \n",
       "677554           19471.42              4794.00   \n",
       "677555            6707.76              1430.87   \n",
       "\n",
       "        Rndrng_Prvdr_Type_Adult Congenital Heart Disease  \\\n",
       "0                                                    0.0   \n",
       "1                                                    0.0   \n",
       "2                                                    0.0   \n",
       "3                                                    0.0   \n",
       "4                                                    0.0   \n",
       "...                                                  ...   \n",
       "677551                                               0.0   \n",
       "677552                                               0.0   \n",
       "677553                                               0.0   \n",
       "677554                                               0.0   \n",
       "677555                                               0.0   \n",
       "\n",
       "        Rndrng_Prvdr_Type_Micrographic Dermatologic Surgery  \\\n",
       "0                                                     0.0     \n",
       "1                                                     0.0     \n",
       "2                                                     0.0     \n",
       "3                                                     0.0     \n",
       "4                                                     0.0     \n",
       "...                                                   ...     \n",
       "677551                                                0.0     \n",
       "677552                                                0.0     \n",
       "677553                                                0.0     \n",
       "677554                                                0.0     \n",
       "677555                                                0.0     \n",
       "\n",
       "        Rndrng_Prvdr_Type_Opioid Treatment Program  \n",
       "0                                              0.0  \n",
       "1                                              0.0  \n",
       "2                                              0.0  \n",
       "3                                              0.0  \n",
       "4                                              0.0  \n",
       "...                                            ...  \n",
       "677551                                         0.0  \n",
       "677552                                         0.0  \n",
       "677553                                         0.0  \n",
       "677554                                         0.0  \n",
       "677555                                         0.0  \n",
       "\n",
       "[677556 rows x 126 columns]"
      ]
     },
     "execution_count": 3,
     "metadata": {},
     "output_type": "execute_result"
    }
   ],
   "source": [
    "combined_dataset_1920 = pd.read_csv('dataset_of_1920_combination.csv', sep=',')\n",
    "combined_dataset_1920"
   ]
  },
  {
   "cell_type": "code",
   "execution_count": 4,
   "metadata": {},
   "outputs": [
    {
     "data": {
      "text/plain": [
       "0    677433\n",
       "1       123\n",
       "Name: Exclusion, dtype: int64"
      ]
     },
     "execution_count": 4,
     "metadata": {},
     "output_type": "execute_result"
    }
   ],
   "source": [
    "combined_dataset_1920['Exclusion'].value_counts()"
   ]
  },
  {
   "cell_type": "code",
   "execution_count": 5,
   "metadata": {},
   "outputs": [],
   "source": [
    "# Convert the 'Rfrg_Prvdr_State_FIPS' column to string type\n",
    "combined_dataset_1920['Rfrg_Prvdr_State_FIPS'] = combined_dataset_1920['Rfrg_Prvdr_State_FIPS'].astype(str)\n",
    "\n",
    "# Create a boolean mask to identify rows with mixed letters and numbers\n",
    "mixed_letters_mask = combined_dataset_1920['Rfrg_Prvdr_State_FIPS'].str.contains('[A-Za-z]', na=False)\n",
    "\n",
    "# Invert the mask to select rows without mixed letters and numbers\n",
    "filtered_data = combined_dataset_1920[~mixed_letters_mask]"
   ]
  },
  {
   "cell_type": "code",
   "execution_count": 6,
   "metadata": {},
   "outputs": [
    {
     "data": {
      "text/plain": [
       "0    677433\n",
       "1       123\n",
       "Name: Exclusion, dtype: int64"
      ]
     },
     "execution_count": 6,
     "metadata": {},
     "output_type": "execute_result"
    }
   ],
   "source": [
    "filtered_data['Exclusion'].value_counts()"
   ]
  },
  {
   "cell_type": "code",
   "execution_count": 7,
   "metadata": {},
   "outputs": [
    {
     "name": "stderr",
     "output_type": "stream",
     "text": [
      "/var/folders/gm/vdq6g76x11l24y8k6gvx9kgm0000gn/T/ipykernel_74606/3596824791.py:1: DtypeWarning: Columns (1) have mixed types. Specify dtype option on import or set low_memory=False.\n",
      "  dataset_2021 = pd.read_csv('combined_dataset_2021.csv', sep=',')\n"
     ]
    },
    {
     "data": {
      "text/html": [
       "<div>\n",
       "<style scoped>\n",
       "    .dataframe tbody tr th:only-of-type {\n",
       "        vertical-align: middle;\n",
       "    }\n",
       "\n",
       "    .dataframe tbody tr th {\n",
       "        vertical-align: top;\n",
       "    }\n",
       "\n",
       "    .dataframe thead th {\n",
       "        text-align: right;\n",
       "    }\n",
       "</style>\n",
       "<table border=\"1\" class=\"dataframe\">\n",
       "  <thead>\n",
       "    <tr style=\"text-align: right;\">\n",
       "      <th></th>\n",
       "      <th>NPI</th>\n",
       "      <th>Rndrng_Prvdr_State_FIPS</th>\n",
       "      <th>Tot_HCPCS_Cds</th>\n",
       "      <th>Tot_Benes_x</th>\n",
       "      <th>Tot_Srvcs</th>\n",
       "      <th>Tot_Sbmtd_Chrg</th>\n",
       "      <th>Tot_Mdcr_Pymt_Amt</th>\n",
       "      <th>Bene_Avg_Risk_Scre</th>\n",
       "      <th>Exclusion</th>\n",
       "      <th>Rndrng_Prvdr_Gndr_F</th>\n",
       "      <th>...</th>\n",
       "      <th>Tot_Day_Suply</th>\n",
       "      <th>Tot_Benes_y</th>\n",
       "      <th>Rfrg_Prvdr_State_FIPS</th>\n",
       "      <th>Tot_Suplrs</th>\n",
       "      <th>Tot_Suplr_HCPCS_Cds</th>\n",
       "      <th>Tot_Suplr_Benes</th>\n",
       "      <th>Tot_Suplr_Clms</th>\n",
       "      <th>Tot_Suplr_Srvcs</th>\n",
       "      <th>Suplr_Sbmtd_Chrgs</th>\n",
       "      <th>Suplr_Mdcr_Pymt_Amt</th>\n",
       "    </tr>\n",
       "  </thead>\n",
       "  <tbody>\n",
       "    <tr>\n",
       "      <th>0</th>\n",
       "      <td>1003000480</td>\n",
       "      <td>08</td>\n",
       "      <td>29</td>\n",
       "      <td>112</td>\n",
       "      <td>162.0</td>\n",
       "      <td>180891.00</td>\n",
       "      <td>28071.92</td>\n",
       "      <td>1.8233</td>\n",
       "      <td>0</td>\n",
       "      <td>0</td>\n",
       "      <td>...</td>\n",
       "      <td>909.0</td>\n",
       "      <td>22.0</td>\n",
       "      <td>8.0</td>\n",
       "      <td>4</td>\n",
       "      <td>3</td>\n",
       "      <td>25.0</td>\n",
       "      <td>11</td>\n",
       "      <td>24</td>\n",
       "      <td>4863.99</td>\n",
       "      <td>1082.62</td>\n",
       "    </tr>\n",
       "    <tr>\n",
       "      <th>1</th>\n",
       "      <td>1003000530</td>\n",
       "      <td>42</td>\n",
       "      <td>31</td>\n",
       "      <td>404</td>\n",
       "      <td>1487.0</td>\n",
       "      <td>257901.00</td>\n",
       "      <td>140941.85</td>\n",
       "      <td>1.1156</td>\n",
       "      <td>0</td>\n",
       "      <td>1</td>\n",
       "      <td>...</td>\n",
       "      <td>368172.0</td>\n",
       "      <td>450.0</td>\n",
       "      <td>42.0</td>\n",
       "      <td>14</td>\n",
       "      <td>35</td>\n",
       "      <td>18.0</td>\n",
       "      <td>66</td>\n",
       "      <td>654</td>\n",
       "      <td>19129.66</td>\n",
       "      <td>5619.54</td>\n",
       "    </tr>\n",
       "    <tr>\n",
       "      <th>2</th>\n",
       "      <td>1003000597</td>\n",
       "      <td>40</td>\n",
       "      <td>117</td>\n",
       "      <td>852</td>\n",
       "      <td>3262.0</td>\n",
       "      <td>1033734.50</td>\n",
       "      <td>277087.11</td>\n",
       "      <td>1.5271</td>\n",
       "      <td>0</td>\n",
       "      <td>0</td>\n",
       "      <td>...</td>\n",
       "      <td>68113.0</td>\n",
       "      <td>534.0</td>\n",
       "      <td>40.0</td>\n",
       "      <td>4</td>\n",
       "      <td>11</td>\n",
       "      <td>25.0</td>\n",
       "      <td>14</td>\n",
       "      <td>2274</td>\n",
       "      <td>13075.14</td>\n",
       "      <td>5449.53</td>\n",
       "    </tr>\n",
       "    <tr>\n",
       "      <th>3</th>\n",
       "      <td>1003000902</td>\n",
       "      <td>21</td>\n",
       "      <td>29</td>\n",
       "      <td>276</td>\n",
       "      <td>804.0</td>\n",
       "      <td>132437.00</td>\n",
       "      <td>59231.15</td>\n",
       "      <td>1.1414</td>\n",
       "      <td>0</td>\n",
       "      <td>1</td>\n",
       "      <td>...</td>\n",
       "      <td>502663.0</td>\n",
       "      <td>574.0</td>\n",
       "      <td>21.0</td>\n",
       "      <td>27</td>\n",
       "      <td>45</td>\n",
       "      <td>31.0</td>\n",
       "      <td>162</td>\n",
       "      <td>5306</td>\n",
       "      <td>45503.03</td>\n",
       "      <td>12046.81</td>\n",
       "    </tr>\n",
       "    <tr>\n",
       "      <th>4</th>\n",
       "      <td>1003000936</td>\n",
       "      <td>45</td>\n",
       "      <td>68</td>\n",
       "      <td>996</td>\n",
       "      <td>3514.0</td>\n",
       "      <td>507287.96</td>\n",
       "      <td>163207.62</td>\n",
       "      <td>1.5866</td>\n",
       "      <td>0</td>\n",
       "      <td>0</td>\n",
       "      <td>...</td>\n",
       "      <td>64520.0</td>\n",
       "      <td>234.0</td>\n",
       "      <td>45.0</td>\n",
       "      <td>3</td>\n",
       "      <td>3</td>\n",
       "      <td>25.0</td>\n",
       "      <td>16</td>\n",
       "      <td>27</td>\n",
       "      <td>19114.07</td>\n",
       "      <td>6886.60</td>\n",
       "    </tr>\n",
       "    <tr>\n",
       "      <th>...</th>\n",
       "      <td>...</td>\n",
       "      <td>...</td>\n",
       "      <td>...</td>\n",
       "      <td>...</td>\n",
       "      <td>...</td>\n",
       "      <td>...</td>\n",
       "      <td>...</td>\n",
       "      <td>...</td>\n",
       "      <td>...</td>\n",
       "      <td>...</td>\n",
       "      <td>...</td>\n",
       "      <td>...</td>\n",
       "      <td>...</td>\n",
       "      <td>...</td>\n",
       "      <td>...</td>\n",
       "      <td>...</td>\n",
       "      <td>...</td>\n",
       "      <td>...</td>\n",
       "      <td>...</td>\n",
       "      <td>...</td>\n",
       "      <td>...</td>\n",
       "    </tr>\n",
       "    <tr>\n",
       "      <th>333717</th>\n",
       "      <td>1992998645</td>\n",
       "      <td>48</td>\n",
       "      <td>30</td>\n",
       "      <td>329</td>\n",
       "      <td>2055.0</td>\n",
       "      <td>541187.00</td>\n",
       "      <td>160164.01</td>\n",
       "      <td>1.5741</td>\n",
       "      <td>0</td>\n",
       "      <td>1</td>\n",
       "      <td>...</td>\n",
       "      <td>563980.0</td>\n",
       "      <td>497.0</td>\n",
       "      <td>48.0</td>\n",
       "      <td>36</td>\n",
       "      <td>74</td>\n",
       "      <td>46.0</td>\n",
       "      <td>206</td>\n",
       "      <td>5942</td>\n",
       "      <td>157075.33</td>\n",
       "      <td>48162.30</td>\n",
       "    </tr>\n",
       "    <tr>\n",
       "      <th>333718</th>\n",
       "      <td>1992998736</td>\n",
       "      <td>12</td>\n",
       "      <td>47</td>\n",
       "      <td>144</td>\n",
       "      <td>655.0</td>\n",
       "      <td>117416.12</td>\n",
       "      <td>48420.88</td>\n",
       "      <td>0.9627</td>\n",
       "      <td>0</td>\n",
       "      <td>0</td>\n",
       "      <td>...</td>\n",
       "      <td>76663.0</td>\n",
       "      <td>149.0</td>\n",
       "      <td>12.0</td>\n",
       "      <td>15</td>\n",
       "      <td>32</td>\n",
       "      <td>13.0</td>\n",
       "      <td>33</td>\n",
       "      <td>530</td>\n",
       "      <td>19228.91</td>\n",
       "      <td>4791.03</td>\n",
       "    </tr>\n",
       "    <tr>\n",
       "      <th>333719</th>\n",
       "      <td>1992999122</td>\n",
       "      <td>12</td>\n",
       "      <td>35</td>\n",
       "      <td>1251</td>\n",
       "      <td>6269.0</td>\n",
       "      <td>682525.19</td>\n",
       "      <td>461163.49</td>\n",
       "      <td>1.1726</td>\n",
       "      <td>0</td>\n",
       "      <td>0</td>\n",
       "      <td>...</td>\n",
       "      <td>729381.0</td>\n",
       "      <td>1005.0</td>\n",
       "      <td>12.0</td>\n",
       "      <td>51</td>\n",
       "      <td>76</td>\n",
       "      <td>86.0</td>\n",
       "      <td>486</td>\n",
       "      <td>24758</td>\n",
       "      <td>202532.22</td>\n",
       "      <td>54549.76</td>\n",
       "    </tr>\n",
       "    <tr>\n",
       "      <th>333720</th>\n",
       "      <td>1992999551</td>\n",
       "      <td>6</td>\n",
       "      <td>31</td>\n",
       "      <td>301</td>\n",
       "      <td>1099.0</td>\n",
       "      <td>166460.10</td>\n",
       "      <td>71607.11</td>\n",
       "      <td>1.0926</td>\n",
       "      <td>0</td>\n",
       "      <td>1</td>\n",
       "      <td>...</td>\n",
       "      <td>373113.0</td>\n",
       "      <td>485.0</td>\n",
       "      <td>6.0</td>\n",
       "      <td>23</td>\n",
       "      <td>61</td>\n",
       "      <td>25.0</td>\n",
       "      <td>104</td>\n",
       "      <td>1390</td>\n",
       "      <td>65535.62</td>\n",
       "      <td>24883.53</td>\n",
       "    </tr>\n",
       "    <tr>\n",
       "      <th>333721</th>\n",
       "      <td>1992999874</td>\n",
       "      <td>51</td>\n",
       "      <td>12</td>\n",
       "      <td>355</td>\n",
       "      <td>1115.0</td>\n",
       "      <td>388502.00</td>\n",
       "      <td>91496.75</td>\n",
       "      <td>2.5602</td>\n",
       "      <td>0</td>\n",
       "      <td>1</td>\n",
       "      <td>...</td>\n",
       "      <td>6964.0</td>\n",
       "      <td>103.0</td>\n",
       "      <td>51.0</td>\n",
       "      <td>4</td>\n",
       "      <td>7</td>\n",
       "      <td>25.0</td>\n",
       "      <td>21</td>\n",
       "      <td>28</td>\n",
       "      <td>5031.65</td>\n",
       "      <td>1141.28</td>\n",
       "    </tr>\n",
       "  </tbody>\n",
       "</table>\n",
       "<p>333722 rows × 128 columns</p>\n",
       "</div>"
      ],
      "text/plain": [
       "               NPI Rndrng_Prvdr_State_FIPS  Tot_HCPCS_Cds  Tot_Benes_x  \\\n",
       "0       1003000480                      08             29          112   \n",
       "1       1003000530                      42             31          404   \n",
       "2       1003000597                      40            117          852   \n",
       "3       1003000902                      21             29          276   \n",
       "4       1003000936                      45             68          996   \n",
       "...            ...                     ...            ...          ...   \n",
       "333717  1992998645                      48             30          329   \n",
       "333718  1992998736                      12             47          144   \n",
       "333719  1992999122                      12             35         1251   \n",
       "333720  1992999551                       6             31          301   \n",
       "333721  1992999874                      51             12          355   \n",
       "\n",
       "        Tot_Srvcs  Tot_Sbmtd_Chrg  Tot_Mdcr_Pymt_Amt  Bene_Avg_Risk_Scre  \\\n",
       "0           162.0       180891.00           28071.92              1.8233   \n",
       "1          1487.0       257901.00          140941.85              1.1156   \n",
       "2          3262.0      1033734.50          277087.11              1.5271   \n",
       "3           804.0       132437.00           59231.15              1.1414   \n",
       "4          3514.0       507287.96          163207.62              1.5866   \n",
       "...           ...             ...                ...                 ...   \n",
       "333717     2055.0       541187.00          160164.01              1.5741   \n",
       "333718      655.0       117416.12           48420.88              0.9627   \n",
       "333719     6269.0       682525.19          461163.49              1.1726   \n",
       "333720     1099.0       166460.10           71607.11              1.0926   \n",
       "333721     1115.0       388502.00           91496.75              2.5602   \n",
       "\n",
       "        Exclusion  Rndrng_Prvdr_Gndr_F  ...  Tot_Day_Suply  Tot_Benes_y  \\\n",
       "0               0                    0  ...          909.0         22.0   \n",
       "1               0                    1  ...       368172.0        450.0   \n",
       "2               0                    0  ...        68113.0        534.0   \n",
       "3               0                    1  ...       502663.0        574.0   \n",
       "4               0                    0  ...        64520.0        234.0   \n",
       "...           ...                  ...  ...            ...          ...   \n",
       "333717          0                    1  ...       563980.0        497.0   \n",
       "333718          0                    0  ...        76663.0        149.0   \n",
       "333719          0                    0  ...       729381.0       1005.0   \n",
       "333720          0                    1  ...       373113.0        485.0   \n",
       "333721          0                    1  ...         6964.0        103.0   \n",
       "\n",
       "        Rfrg_Prvdr_State_FIPS  Tot_Suplrs  Tot_Suplr_HCPCS_Cds  \\\n",
       "0                         8.0           4                    3   \n",
       "1                        42.0          14                   35   \n",
       "2                        40.0           4                   11   \n",
       "3                        21.0          27                   45   \n",
       "4                        45.0           3                    3   \n",
       "...                       ...         ...                  ...   \n",
       "333717                   48.0          36                   74   \n",
       "333718                   12.0          15                   32   \n",
       "333719                   12.0          51                   76   \n",
       "333720                    6.0          23                   61   \n",
       "333721                   51.0           4                    7   \n",
       "\n",
       "        Tot_Suplr_Benes  Tot_Suplr_Clms  Tot_Suplr_Srvcs  Suplr_Sbmtd_Chrgs  \\\n",
       "0                  25.0              11               24            4863.99   \n",
       "1                  18.0              66              654           19129.66   \n",
       "2                  25.0              14             2274           13075.14   \n",
       "3                  31.0             162             5306           45503.03   \n",
       "4                  25.0              16               27           19114.07   \n",
       "...                 ...             ...              ...                ...   \n",
       "333717             46.0             206             5942          157075.33   \n",
       "333718             13.0              33              530           19228.91   \n",
       "333719             86.0             486            24758          202532.22   \n",
       "333720             25.0             104             1390           65535.62   \n",
       "333721             25.0              21               28            5031.65   \n",
       "\n",
       "        Suplr_Mdcr_Pymt_Amt  \n",
       "0                   1082.62  \n",
       "1                   5619.54  \n",
       "2                   5449.53  \n",
       "3                  12046.81  \n",
       "4                   6886.60  \n",
       "...                     ...  \n",
       "333717             48162.30  \n",
       "333718              4791.03  \n",
       "333719             54549.76  \n",
       "333720             24883.53  \n",
       "333721              1141.28  \n",
       "\n",
       "[333722 rows x 128 columns]"
      ]
     },
     "execution_count": 7,
     "metadata": {},
     "output_type": "execute_result"
    }
   ],
   "source": [
    "dataset_2021 = pd.read_csv('combined_dataset_2021.csv', sep=',')\n",
    "dataset_2021"
   ]
  },
  {
   "cell_type": "code",
   "execution_count": 8,
   "metadata": {},
   "outputs": [
    {
     "data": {
      "text/plain": [
       "0    333703\n",
       "1        19\n",
       "Name: Exclusion, dtype: int64"
      ]
     },
     "execution_count": 8,
     "metadata": {},
     "output_type": "execute_result"
    }
   ],
   "source": [
    "dataset_2021['Exclusion'].value_counts()"
   ]
  },
  {
   "cell_type": "code",
   "execution_count": 9,
   "metadata": {},
   "outputs": [],
   "source": [
    "# Convert the 'Rfrg_Prvdr_State_FIPS' column to string type\n",
    "dataset_2021['Rfrg_Prvdr_State_FIPS'] = dataset_2021['Rfrg_Prvdr_State_FIPS'].astype(str)\n",
    "\n",
    "# Create a boolean mask to identify rows with mixed letters and numbers\n",
    "mixed_letters_mask = dataset_2021['Rfrg_Prvdr_State_FIPS'].str.contains('[A-Za-z]', na=False)\n",
    "\n",
    "# Invert the mask to select rows without mixed letters and numbers\n",
    "filtered_data_2 = dataset_2021[~mixed_letters_mask]"
   ]
  },
  {
   "cell_type": "code",
   "execution_count": 10,
   "metadata": {},
   "outputs": [
    {
     "data": {
      "text/plain": [
       "0    333703\n",
       "1        19\n",
       "Name: Exclusion, dtype: int64"
      ]
     },
     "execution_count": 10,
     "metadata": {},
     "output_type": "execute_result"
    }
   ],
   "source": [
    "filtered_data_2['Exclusion'].value_counts()"
   ]
  },
  {
   "cell_type": "code",
   "execution_count": 11,
   "metadata": {},
   "outputs": [],
   "source": [
    "filtered_data.to_csv('dataset_of_1920_combination.csv', index = False)\n",
    "filtered_data_2.to_csv('combined_dataset_2021.csv', index = False)"
   ]
  },
  {
   "cell_type": "code",
   "execution_count": 12,
   "metadata": {},
   "outputs": [
    {
     "name": "stderr",
     "output_type": "stream",
     "text": [
      "/var/folders/gm/vdq6g76x11l24y8k6gvx9kgm0000gn/T/ipykernel_74606/1259693481.py:1: DtypeWarning: Columns (1) have mixed types. Specify dtype option on import or set low_memory=False.\n",
      "  dataset_2021 = pd.read_csv('combined_dataset_2021.csv', sep=',')\n"
     ]
    },
    {
     "data": {
      "text/html": [
       "<div>\n",
       "<style scoped>\n",
       "    .dataframe tbody tr th:only-of-type {\n",
       "        vertical-align: middle;\n",
       "    }\n",
       "\n",
       "    .dataframe tbody tr th {\n",
       "        vertical-align: top;\n",
       "    }\n",
       "\n",
       "    .dataframe thead th {\n",
       "        text-align: right;\n",
       "    }\n",
       "</style>\n",
       "<table border=\"1\" class=\"dataframe\">\n",
       "  <thead>\n",
       "    <tr style=\"text-align: right;\">\n",
       "      <th></th>\n",
       "      <th>Rndrng_Prvdr_State_FIPS</th>\n",
       "      <th>Tot_HCPCS_Cds</th>\n",
       "      <th>Tot_Benes_x</th>\n",
       "      <th>Tot_Srvcs</th>\n",
       "      <th>Tot_Sbmtd_Chrg</th>\n",
       "      <th>Tot_Mdcr_Pymt_Amt</th>\n",
       "      <th>Bene_Avg_Risk_Scre</th>\n",
       "      <th>Exclusion</th>\n",
       "      <th>Rndrng_Prvdr_Gndr_F</th>\n",
       "      <th>Rndrng_Prvdr_Gndr_M</th>\n",
       "      <th>...</th>\n",
       "      <th>Tot_Suplrs</th>\n",
       "      <th>Tot_Suplr_HCPCS_Cds</th>\n",
       "      <th>Tot_Suplr_Benes</th>\n",
       "      <th>Tot_Suplr_Clms</th>\n",
       "      <th>Tot_Suplr_Srvcs</th>\n",
       "      <th>Suplr_Sbmtd_Chrgs</th>\n",
       "      <th>Suplr_Mdcr_Pymt_Amt</th>\n",
       "      <th>Rndrng_Prvdr_Type_Adult Congenital Heart Disease</th>\n",
       "      <th>Rndrng_Prvdr_Type_Micrographic Dermatologic Surgery</th>\n",
       "      <th>Rndrng_Prvdr_Type_Opioid Treatment Program</th>\n",
       "    </tr>\n",
       "  </thead>\n",
       "  <tbody>\n",
       "    <tr>\n",
       "      <th>0</th>\n",
       "      <td>08</td>\n",
       "      <td>29</td>\n",
       "      <td>112</td>\n",
       "      <td>162.0</td>\n",
       "      <td>180891.00</td>\n",
       "      <td>28071.92</td>\n",
       "      <td>1.8233</td>\n",
       "      <td>0</td>\n",
       "      <td>0</td>\n",
       "      <td>1</td>\n",
       "      <td>...</td>\n",
       "      <td>4</td>\n",
       "      <td>3</td>\n",
       "      <td>25.0</td>\n",
       "      <td>11</td>\n",
       "      <td>24</td>\n",
       "      <td>4863.99</td>\n",
       "      <td>1082.62</td>\n",
       "      <td>0</td>\n",
       "      <td>0</td>\n",
       "      <td>0</td>\n",
       "    </tr>\n",
       "    <tr>\n",
       "      <th>1</th>\n",
       "      <td>42</td>\n",
       "      <td>31</td>\n",
       "      <td>404</td>\n",
       "      <td>1487.0</td>\n",
       "      <td>257901.00</td>\n",
       "      <td>140941.85</td>\n",
       "      <td>1.1156</td>\n",
       "      <td>0</td>\n",
       "      <td>1</td>\n",
       "      <td>0</td>\n",
       "      <td>...</td>\n",
       "      <td>14</td>\n",
       "      <td>35</td>\n",
       "      <td>18.0</td>\n",
       "      <td>66</td>\n",
       "      <td>654</td>\n",
       "      <td>19129.66</td>\n",
       "      <td>5619.54</td>\n",
       "      <td>0</td>\n",
       "      <td>0</td>\n",
       "      <td>0</td>\n",
       "    </tr>\n",
       "    <tr>\n",
       "      <th>2</th>\n",
       "      <td>40</td>\n",
       "      <td>117</td>\n",
       "      <td>852</td>\n",
       "      <td>3262.0</td>\n",
       "      <td>1033734.50</td>\n",
       "      <td>277087.11</td>\n",
       "      <td>1.5271</td>\n",
       "      <td>0</td>\n",
       "      <td>0</td>\n",
       "      <td>1</td>\n",
       "      <td>...</td>\n",
       "      <td>4</td>\n",
       "      <td>11</td>\n",
       "      <td>25.0</td>\n",
       "      <td>14</td>\n",
       "      <td>2274</td>\n",
       "      <td>13075.14</td>\n",
       "      <td>5449.53</td>\n",
       "      <td>0</td>\n",
       "      <td>0</td>\n",
       "      <td>0</td>\n",
       "    </tr>\n",
       "    <tr>\n",
       "      <th>3</th>\n",
       "      <td>21</td>\n",
       "      <td>29</td>\n",
       "      <td>276</td>\n",
       "      <td>804.0</td>\n",
       "      <td>132437.00</td>\n",
       "      <td>59231.15</td>\n",
       "      <td>1.1414</td>\n",
       "      <td>0</td>\n",
       "      <td>1</td>\n",
       "      <td>0</td>\n",
       "      <td>...</td>\n",
       "      <td>27</td>\n",
       "      <td>45</td>\n",
       "      <td>31.0</td>\n",
       "      <td>162</td>\n",
       "      <td>5306</td>\n",
       "      <td>45503.03</td>\n",
       "      <td>12046.81</td>\n",
       "      <td>0</td>\n",
       "      <td>0</td>\n",
       "      <td>0</td>\n",
       "    </tr>\n",
       "    <tr>\n",
       "      <th>4</th>\n",
       "      <td>45</td>\n",
       "      <td>68</td>\n",
       "      <td>996</td>\n",
       "      <td>3514.0</td>\n",
       "      <td>507287.96</td>\n",
       "      <td>163207.62</td>\n",
       "      <td>1.5866</td>\n",
       "      <td>0</td>\n",
       "      <td>0</td>\n",
       "      <td>1</td>\n",
       "      <td>...</td>\n",
       "      <td>3</td>\n",
       "      <td>3</td>\n",
       "      <td>25.0</td>\n",
       "      <td>16</td>\n",
       "      <td>27</td>\n",
       "      <td>19114.07</td>\n",
       "      <td>6886.60</td>\n",
       "      <td>0</td>\n",
       "      <td>0</td>\n",
       "      <td>0</td>\n",
       "    </tr>\n",
       "    <tr>\n",
       "      <th>...</th>\n",
       "      <td>...</td>\n",
       "      <td>...</td>\n",
       "      <td>...</td>\n",
       "      <td>...</td>\n",
       "      <td>...</td>\n",
       "      <td>...</td>\n",
       "      <td>...</td>\n",
       "      <td>...</td>\n",
       "      <td>...</td>\n",
       "      <td>...</td>\n",
       "      <td>...</td>\n",
       "      <td>...</td>\n",
       "      <td>...</td>\n",
       "      <td>...</td>\n",
       "      <td>...</td>\n",
       "      <td>...</td>\n",
       "      <td>...</td>\n",
       "      <td>...</td>\n",
       "      <td>...</td>\n",
       "      <td>...</td>\n",
       "      <td>...</td>\n",
       "    </tr>\n",
       "    <tr>\n",
       "      <th>333717</th>\n",
       "      <td>48</td>\n",
       "      <td>30</td>\n",
       "      <td>329</td>\n",
       "      <td>2055.0</td>\n",
       "      <td>541187.00</td>\n",
       "      <td>160164.01</td>\n",
       "      <td>1.5741</td>\n",
       "      <td>0</td>\n",
       "      <td>1</td>\n",
       "      <td>0</td>\n",
       "      <td>...</td>\n",
       "      <td>36</td>\n",
       "      <td>74</td>\n",
       "      <td>46.0</td>\n",
       "      <td>206</td>\n",
       "      <td>5942</td>\n",
       "      <td>157075.33</td>\n",
       "      <td>48162.30</td>\n",
       "      <td>0</td>\n",
       "      <td>0</td>\n",
       "      <td>0</td>\n",
       "    </tr>\n",
       "    <tr>\n",
       "      <th>333718</th>\n",
       "      <td>12</td>\n",
       "      <td>47</td>\n",
       "      <td>144</td>\n",
       "      <td>655.0</td>\n",
       "      <td>117416.12</td>\n",
       "      <td>48420.88</td>\n",
       "      <td>0.9627</td>\n",
       "      <td>0</td>\n",
       "      <td>0</td>\n",
       "      <td>1</td>\n",
       "      <td>...</td>\n",
       "      <td>15</td>\n",
       "      <td>32</td>\n",
       "      <td>13.0</td>\n",
       "      <td>33</td>\n",
       "      <td>530</td>\n",
       "      <td>19228.91</td>\n",
       "      <td>4791.03</td>\n",
       "      <td>0</td>\n",
       "      <td>0</td>\n",
       "      <td>0</td>\n",
       "    </tr>\n",
       "    <tr>\n",
       "      <th>333719</th>\n",
       "      <td>12</td>\n",
       "      <td>35</td>\n",
       "      <td>1251</td>\n",
       "      <td>6269.0</td>\n",
       "      <td>682525.19</td>\n",
       "      <td>461163.49</td>\n",
       "      <td>1.1726</td>\n",
       "      <td>0</td>\n",
       "      <td>0</td>\n",
       "      <td>1</td>\n",
       "      <td>...</td>\n",
       "      <td>51</td>\n",
       "      <td>76</td>\n",
       "      <td>86.0</td>\n",
       "      <td>486</td>\n",
       "      <td>24758</td>\n",
       "      <td>202532.22</td>\n",
       "      <td>54549.76</td>\n",
       "      <td>0</td>\n",
       "      <td>0</td>\n",
       "      <td>0</td>\n",
       "    </tr>\n",
       "    <tr>\n",
       "      <th>333720</th>\n",
       "      <td>6</td>\n",
       "      <td>31</td>\n",
       "      <td>301</td>\n",
       "      <td>1099.0</td>\n",
       "      <td>166460.10</td>\n",
       "      <td>71607.11</td>\n",
       "      <td>1.0926</td>\n",
       "      <td>0</td>\n",
       "      <td>1</td>\n",
       "      <td>0</td>\n",
       "      <td>...</td>\n",
       "      <td>23</td>\n",
       "      <td>61</td>\n",
       "      <td>25.0</td>\n",
       "      <td>104</td>\n",
       "      <td>1390</td>\n",
       "      <td>65535.62</td>\n",
       "      <td>24883.53</td>\n",
       "      <td>0</td>\n",
       "      <td>0</td>\n",
       "      <td>0</td>\n",
       "    </tr>\n",
       "    <tr>\n",
       "      <th>333721</th>\n",
       "      <td>51</td>\n",
       "      <td>12</td>\n",
       "      <td>355</td>\n",
       "      <td>1115.0</td>\n",
       "      <td>388502.00</td>\n",
       "      <td>91496.75</td>\n",
       "      <td>2.5602</td>\n",
       "      <td>0</td>\n",
       "      <td>1</td>\n",
       "      <td>0</td>\n",
       "      <td>...</td>\n",
       "      <td>4</td>\n",
       "      <td>7</td>\n",
       "      <td>25.0</td>\n",
       "      <td>21</td>\n",
       "      <td>28</td>\n",
       "      <td>5031.65</td>\n",
       "      <td>1141.28</td>\n",
       "      <td>0</td>\n",
       "      <td>0</td>\n",
       "      <td>0</td>\n",
       "    </tr>\n",
       "  </tbody>\n",
       "</table>\n",
       "<p>333722 rows × 126 columns</p>\n",
       "</div>"
      ],
      "text/plain": [
       "       Rndrng_Prvdr_State_FIPS  Tot_HCPCS_Cds  Tot_Benes_x  Tot_Srvcs  \\\n",
       "0                           08             29          112      162.0   \n",
       "1                           42             31          404     1487.0   \n",
       "2                           40            117          852     3262.0   \n",
       "3                           21             29          276      804.0   \n",
       "4                           45             68          996     3514.0   \n",
       "...                        ...            ...          ...        ...   \n",
       "333717                      48             30          329     2055.0   \n",
       "333718                      12             47          144      655.0   \n",
       "333719                      12             35         1251     6269.0   \n",
       "333720                       6             31          301     1099.0   \n",
       "333721                      51             12          355     1115.0   \n",
       "\n",
       "        Tot_Sbmtd_Chrg  Tot_Mdcr_Pymt_Amt  Bene_Avg_Risk_Scre  Exclusion  \\\n",
       "0            180891.00           28071.92              1.8233          0   \n",
       "1            257901.00          140941.85              1.1156          0   \n",
       "2           1033734.50          277087.11              1.5271          0   \n",
       "3            132437.00           59231.15              1.1414          0   \n",
       "4            507287.96          163207.62              1.5866          0   \n",
       "...                ...                ...                 ...        ...   \n",
       "333717       541187.00          160164.01              1.5741          0   \n",
       "333718       117416.12           48420.88              0.9627          0   \n",
       "333719       682525.19          461163.49              1.1726          0   \n",
       "333720       166460.10           71607.11              1.0926          0   \n",
       "333721       388502.00           91496.75              2.5602          0   \n",
       "\n",
       "        Rndrng_Prvdr_Gndr_F  Rndrng_Prvdr_Gndr_M  ...  Tot_Suplrs  \\\n",
       "0                         0                    1  ...           4   \n",
       "1                         1                    0  ...          14   \n",
       "2                         0                    1  ...           4   \n",
       "3                         1                    0  ...          27   \n",
       "4                         0                    1  ...           3   \n",
       "...                     ...                  ...  ...         ...   \n",
       "333717                    1                    0  ...          36   \n",
       "333718                    0                    1  ...          15   \n",
       "333719                    0                    1  ...          51   \n",
       "333720                    1                    0  ...          23   \n",
       "333721                    1                    0  ...           4   \n",
       "\n",
       "        Tot_Suplr_HCPCS_Cds  Tot_Suplr_Benes  Tot_Suplr_Clms  Tot_Suplr_Srvcs  \\\n",
       "0                         3             25.0              11               24   \n",
       "1                        35             18.0              66              654   \n",
       "2                        11             25.0              14             2274   \n",
       "3                        45             31.0             162             5306   \n",
       "4                         3             25.0              16               27   \n",
       "...                     ...              ...             ...              ...   \n",
       "333717                   74             46.0             206             5942   \n",
       "333718                   32             13.0              33              530   \n",
       "333719                   76             86.0             486            24758   \n",
       "333720                   61             25.0             104             1390   \n",
       "333721                    7             25.0              21               28   \n",
       "\n",
       "        Suplr_Sbmtd_Chrgs  Suplr_Mdcr_Pymt_Amt  \\\n",
       "0                 4863.99              1082.62   \n",
       "1                19129.66              5619.54   \n",
       "2                13075.14              5449.53   \n",
       "3                45503.03             12046.81   \n",
       "4                19114.07              6886.60   \n",
       "...                   ...                  ...   \n",
       "333717          157075.33             48162.30   \n",
       "333718           19228.91              4791.03   \n",
       "333719          202532.22             54549.76   \n",
       "333720           65535.62             24883.53   \n",
       "333721            5031.65              1141.28   \n",
       "\n",
       "        Rndrng_Prvdr_Type_Adult Congenital Heart Disease  \\\n",
       "0                                                      0   \n",
       "1                                                      0   \n",
       "2                                                      0   \n",
       "3                                                      0   \n",
       "4                                                      0   \n",
       "...                                                  ...   \n",
       "333717                                                 0   \n",
       "333718                                                 0   \n",
       "333719                                                 0   \n",
       "333720                                                 0   \n",
       "333721                                                 0   \n",
       "\n",
       "        Rndrng_Prvdr_Type_Micrographic Dermatologic Surgery  \\\n",
       "0                                                       0     \n",
       "1                                                       0     \n",
       "2                                                       0     \n",
       "3                                                       0     \n",
       "4                                                       0     \n",
       "...                                                   ...     \n",
       "333717                                                  0     \n",
       "333718                                                  0     \n",
       "333719                                                  0     \n",
       "333720                                                  0     \n",
       "333721                                                  0     \n",
       "\n",
       "        Rndrng_Prvdr_Type_Opioid Treatment Program  \n",
       "0                                                0  \n",
       "1                                                0  \n",
       "2                                                0  \n",
       "3                                                0  \n",
       "4                                                0  \n",
       "...                                            ...  \n",
       "333717                                           0  \n",
       "333718                                           0  \n",
       "333719                                           0  \n",
       "333720                                           0  \n",
       "333721                                           0  \n",
       "\n",
       "[333722 rows x 126 columns]"
      ]
     },
     "execution_count": 12,
     "metadata": {},
     "output_type": "execute_result"
    }
   ],
   "source": [
    "dataset_2021 = pd.read_csv('combined_dataset_2021.csv', sep=',')\n",
    "column_ordered_list = [column for column in combined_dataset_1920]\n",
    "dataset_2021 = dataset_2021.loc[:, column_ordered_list]\n",
    "dataset_2021"
   ]
  },
  {
   "cell_type": "code",
   "execution_count": 13,
   "metadata": {},
   "outputs": [],
   "source": [
    "#We use the dateset of 2021 as the test set\n",
    "# y_test will be the 'Exclusion' column converted to integer\n",
    "y_test = dataset_2021['Exclusion'].astype(int)\n",
    "\n",
    "# x_test will be the dataset without the 'Exclusion' column\n",
    "x_test = dataset_2021.drop(columns=['Exclusion'])"
   ]
  },
  {
   "cell_type": "code",
   "execution_count": 14,
   "metadata": {},
   "outputs": [],
   "source": [
    "y_train = combined_dataset_1920['Exclusion'].astype(int)\n",
    "x_train = combined_dataset_1920.drop(columns=['Exclusion'])"
   ]
  },
  {
   "cell_type": "code",
   "execution_count": 23,
   "metadata": {},
   "outputs": [],
   "source": [
    "#first sampling method - ROS\n",
    "ros = RandomOverSampler(sampling_strategy='auto', random_state = None)\n",
    "x_resampled_ros, y_resampled_ros = ros.fit_resample(x_train, y_train)\n",
    "x_resampled_ros.to_csv('x_resampled_ros.csv',index=False)\n",
    "y_resampled_ros.to_csv('y_resampled_ros.csv',index=False)"
   ]
  },
  {
   "cell_type": "code",
   "execution_count": 24,
   "metadata": {},
   "outputs": [
    {
     "data": {
      "text/plain": [
       "['rfc_ros.pkl']"
      ]
     },
     "execution_count": 24,
     "metadata": {},
     "output_type": "execute_result"
    }
   ],
   "source": [
    "#Random Forset Classifier under the ROS\n",
    "\n",
    "# Create a RandomForestClassifier instance with the desired parameters\n",
    "rfc_ros = RandomForestClassifier(random_state=None)\n",
    "# Convert non-numeric values (e.g., '9E') to NaN\n",
    "x_resampled_ros = x_resampled_ros.apply(pd.to_numeric, errors='coerce')\n",
    "\n",
    "# Fill NaN values with appropriate values (e.g., 0)\n",
    "x_resampled_ros.fillna(0, inplace=True)\n",
    "# Fit the classifier to the resampled data\n",
    "rfc_ros.fit(x_resampled_ros, y_resampled_ros)\n",
    "\n",
    "# Save the trained model to a file using joblib\n",
    "joblib.dump(rfc_ros, 'rfc_ros.pkl')"
   ]
  },
  {
   "cell_type": "code",
   "execution_count": 25,
   "metadata": {},
   "outputs": [
    {
     "name": "stderr",
     "output_type": "stream",
     "text": [
      "/Users/violayang/opt/anaconda3/lib/python3.9/site-packages/sklearn/linear_model/_logistic.py:814: ConvergenceWarning: lbfgs failed to converge (status=1):\n",
      "STOP: TOTAL NO. of ITERATIONS REACHED LIMIT.\n",
      "\n",
      "Increase the number of iterations (max_iter) or scale the data as shown in:\n",
      "    https://scikit-learn.org/stable/modules/preprocessing.html\n",
      "Please also refer to the documentation for alternative solver options:\n",
      "    https://scikit-learn.org/stable/modules/linear_model.html#logistic-regression\n",
      "  n_iter_i = _check_optimize_result(\n"
     ]
    },
    {
     "data": {
      "text/plain": [
       "['lr_ros.pkl']"
      ]
     },
     "execution_count": 25,
     "metadata": {},
     "output_type": "execute_result"
    }
   ],
   "source": [
    "#logistic regression under ROS\n",
    "\n",
    "lr_ros = LogisticRegression(random_state=None)\n",
    "\n",
    "# Convert non-numeric values (e.g., '9E') to NaN\n",
    "x_resampled_ros = x_resampled_ros.apply(pd.to_numeric, errors='coerce')\n",
    "\n",
    "# Fill NaN values with appropriate values (e.g., 0)\n",
    "x_resampled_ros.fillna(0, inplace=True)\n",
    "\n",
    "lr_ros = lr_ros.fit(x_resampled_ros, y_resampled_ros)\n",
    "joblib.dump(lr_ros, 'lr_ros.pkl')"
   ]
  },
  {
   "cell_type": "code",
   "execution_count": 26,
   "metadata": {},
   "outputs": [
    {
     "data": {
      "text/plain": [
       "['nb_ros.pkl']"
      ]
     },
     "execution_count": 26,
     "metadata": {},
     "output_type": "execute_result"
    }
   ],
   "source": [
    "#Naive Bayes under ROS\n",
    "\n",
    "nb_ros = GaussianNB()\n",
    "\n",
    "# Convert non-numeric values (e.g., '9E') to NaN\n",
    "x_resampled_ros = x_resampled_ros.apply(pd.to_numeric, errors='coerce')\n",
    "\n",
    "# Fill NaN values with appropriate values (e.g., 0)\n",
    "x_resampled_ros.fillna(0, inplace=True)\n",
    "\n",
    "nb_ros = nb_ros.fit(x_resampled_ros, y_resampled_ros)\n",
    "joblib.dump(nb_ros, 'nb_ros.pkl')"
   ]
  },
  {
   "cell_type": "code",
   "execution_count": 24,
   "metadata": {},
   "outputs": [
    {
     "data": {
      "text/plain": [
       "['xgb_ros.pkl']"
      ]
     },
     "execution_count": 24,
     "metadata": {},
     "output_type": "execute_result"
    }
   ],
   "source": [
    "#XGBoost under ROS\n",
    "xgb_ros = xgboost.XGBClassifier()\n",
    "\n",
    "# Convert non-numeric values (e.g., '9E') to NaN\n",
    "x_resampled_ros = x_resampled_ros.apply(pd.to_numeric, errors='coerce')\n",
    "\n",
    "# Fill NaN values with appropriate values (e.g., 0)\n",
    "x_resampled_ros.fillna(0, inplace=True)\n",
    "\n",
    "xgb_ros = xgb_ros.fit(x_resampled_ros, y_resampled_ros)\n",
    "joblib.dump(xgb_ros, 'xgb_ros.pkl')"
   ]
  },
  {
   "cell_type": "code",
   "execution_count": 25,
   "metadata": {},
   "outputs": [],
   "source": [
    "#the second resampling method: RUS\n",
    "\n",
    "rus = RandomUnderSampler(random_state=None)\n",
    "x_resampled_rus, y_resampled_rus = rus.fit_resample(x_train, y_train)\n",
    "x_resampled_rus.to_csv('x_resampled_rus.csv',index=False)\n",
    "y_resampled_rus.to_csv('y_resampled_rus.csv',index=False)"
   ]
  },
  {
   "cell_type": "code",
   "execution_count": 26,
   "metadata": {},
   "outputs": [
    {
     "data": {
      "text/plain": [
       "['rfc_rus.pkl']"
      ]
     },
     "execution_count": 26,
     "metadata": {},
     "output_type": "execute_result"
    }
   ],
   "source": [
    "#Random Forset Classifier under RUS\n",
    "\n",
    "rfc_rus = RandomForestClassifier(random_state = None)\n",
    "\n",
    "# Convert non-numeric values (e.g., '9E') to NaN\n",
    "x_resampled_rus = x_resampled_rus.apply(pd.to_numeric, errors='coerce')\n",
    "\n",
    "# Fill NaN values with appropriate values (e.g., 0)\n",
    "x_resampled_rus.fillna(0, inplace=True)\n",
    "\n",
    "rfc_rus = rfc_rus.fit(x_resampled_rus, y_resampled_rus)\n",
    "joblib.dump(rfc_rus, 'rfc_rus.pkl')"
   ]
  },
  {
   "cell_type": "code",
   "execution_count": 27,
   "metadata": {},
   "outputs": [
    {
     "name": "stderr",
     "output_type": "stream",
     "text": [
      "/Users/violayang/opt/anaconda3/lib/python3.9/site-packages/sklearn/linear_model/_logistic.py:814: ConvergenceWarning: lbfgs failed to converge (status=1):\n",
      "STOP: TOTAL NO. of ITERATIONS REACHED LIMIT.\n",
      "\n",
      "Increase the number of iterations (max_iter) or scale the data as shown in:\n",
      "    https://scikit-learn.org/stable/modules/preprocessing.html\n",
      "Please also refer to the documentation for alternative solver options:\n",
      "    https://scikit-learn.org/stable/modules/linear_model.html#logistic-regression\n",
      "  n_iter_i = _check_optimize_result(\n"
     ]
    },
    {
     "data": {
      "text/plain": [
       "['lr_rus.pkl']"
      ]
     },
     "execution_count": 27,
     "metadata": {},
     "output_type": "execute_result"
    }
   ],
   "source": [
    "#logistic regression under RUS\n",
    "lr_rus = LogisticRegression(random_state=None)\n",
    "\n",
    "# Convert non-numeric values (e.g., '9E') to NaN\n",
    "x_resampled_rus = x_resampled_rus.apply(pd.to_numeric, errors='coerce')\n",
    "\n",
    "# Fill NaN values with appropriate values (e.g., 0)\n",
    "x_resampled_rus.fillna(0, inplace=True)\n",
    "\n",
    "lr_rus = lr_rus.fit(x_resampled_rus, y_resampled_rus)\n",
    "joblib.dump(lr_rus, 'lr_rus.pkl')"
   ]
  },
  {
   "cell_type": "code",
   "execution_count": 28,
   "metadata": {},
   "outputs": [
    {
     "data": {
      "text/plain": [
       "['nb_rus.pkl']"
      ]
     },
     "execution_count": 28,
     "metadata": {},
     "output_type": "execute_result"
    }
   ],
   "source": [
    "#Naive Bayes under RUS\n",
    "\n",
    "nb_rus = GaussianNB()\n",
    "\n",
    "# Convert non-numeric values (e.g., '9E') to NaN\n",
    "x_resampled_rus = x_resampled_rus.apply(pd.to_numeric, errors='coerce')\n",
    "\n",
    "# Fill NaN values with appropriate values (e.g., 0)\n",
    "x_resampled_rus.fillna(0, inplace=True)\n",
    "\n",
    "nb_rus = nb_rus.fit(x_resampled_rus, y_resampled_rus)\n",
    "joblib.dump(nb_rus, 'nb_rus.pkl')"
   ]
  },
  {
   "cell_type": "code",
   "execution_count": 29,
   "metadata": {},
   "outputs": [
    {
     "data": {
      "text/plain": [
       "['xgb_rus.pkl']"
      ]
     },
     "execution_count": 29,
     "metadata": {},
     "output_type": "execute_result"
    }
   ],
   "source": [
    "#XGBoost under RUS\n",
    "xgb_rus = xgboost.XGBClassifier()\n",
    "\n",
    "# Convert non-numeric values (e.g., '9E') to NaN\n",
    "x_resampled_rus = x_resampled_rus.apply(pd.to_numeric, errors='coerce')\n",
    "\n",
    "# Fill NaN values with appropriate values (e.g., 0)\n",
    "x_resampled_rus.fillna(0, inplace=True)\n",
    "\n",
    "xgb_rus = xgb_rus.fit(x_resampled_rus, y_resampled_rus)\n",
    "joblib.dump(xgb_rus, 'xgb_rus.pkl')"
   ]
  },
  {
   "cell_type": "code",
   "execution_count": 31,
   "metadata": {},
   "outputs": [],
   "source": [
    "#the third resampling method: SMOTE\n",
    "\n",
    "# Convert non-numeric values (e.g., '9E') to NaN\n",
    "x_train_cleaned = x_train.apply(pd.to_numeric, errors='coerce')\n",
    "\n",
    "# Fill NaN values with appropriate values (e.g., 0)\n",
    "x_train_cleaned.fillna(0, inplace=True)\n",
    "\n",
    "# Apply SMOTE to the cleaned data\n",
    "smo = SMOTE(sampling_strategy='auto', random_state=None)\n",
    "x_resampled_smo, y_resampled_smo = smo.fit_resample(x_train_cleaned, y_train)\n",
    "\n",
    "# Convert the resampled data back to dataframes if needed\n",
    "x_resampled_smo = pd.DataFrame(x_resampled_smo, columns=x_train_cleaned.columns)\n",
    "y_resampled_smo = pd.Series(y_resampled_smo)\n",
    "\n",
    "# Save the resampled data to CSV files\n",
    "x_resampled_smo.to_csv('x_resampled_smo.csv', index=False)\n",
    "y_resampled_smo.to_csv('y_resampled_smo.csv', index=False)\n"
   ]
  },
  {
   "cell_type": "code",
   "execution_count": 33,
   "metadata": {},
   "outputs": [
    {
     "data": {
      "text/plain": [
       "['rfc_smo.pkl']"
      ]
     },
     "execution_count": 33,
     "metadata": {},
     "output_type": "execute_result"
    }
   ],
   "source": [
    "#Random Forset under SMOTE\n",
    "\n",
    "rfc_smo = RandomForestClassifier(random_state = None)\n",
    "rfc_smo = rfc_smo.fit(x_resampled_smo, y_resampled_smo)\n",
    "joblib.dump(rfc_smo, 'rfc_smo.pkl')"
   ]
  },
  {
   "cell_type": "code",
   "execution_count": 34,
   "metadata": {},
   "outputs": [
    {
     "name": "stderr",
     "output_type": "stream",
     "text": [
      "/Users/violayang/opt/anaconda3/lib/python3.9/site-packages/sklearn/linear_model/_logistic.py:814: ConvergenceWarning: lbfgs failed to converge (status=1):\n",
      "STOP: TOTAL NO. of ITERATIONS REACHED LIMIT.\n",
      "\n",
      "Increase the number of iterations (max_iter) or scale the data as shown in:\n",
      "    https://scikit-learn.org/stable/modules/preprocessing.html\n",
      "Please also refer to the documentation for alternative solver options:\n",
      "    https://scikit-learn.org/stable/modules/linear_model.html#logistic-regression\n",
      "  n_iter_i = _check_optimize_result(\n"
     ]
    },
    {
     "data": {
      "text/plain": [
       "['lr_smo.pkl']"
      ]
     },
     "execution_count": 34,
     "metadata": {},
     "output_type": "execute_result"
    }
   ],
   "source": [
    "#logistic regression under SMOTE\n",
    "\n",
    "lr_smo = LogisticRegression(random_state=None)\n",
    "lr_smo = lr_smo.fit(x_resampled_smo, y_resampled_smo)\n",
    "joblib.dump(lr_smo, 'lr_smo.pkl')"
   ]
  },
  {
   "cell_type": "code",
   "execution_count": 35,
   "metadata": {},
   "outputs": [
    {
     "data": {
      "text/plain": [
       "['nb_smo.pkl']"
      ]
     },
     "execution_count": 35,
     "metadata": {},
     "output_type": "execute_result"
    }
   ],
   "source": [
    "#Naive Bayes under SMOTE\n",
    "\n",
    "nb_smo = GaussianNB()\n",
    "nb_smo = nb_smo.fit(x_resampled_smo, y_resampled_smo)\n",
    "joblib.dump(nb_smo, 'nb_smo.pkl')"
   ]
  },
  {
   "cell_type": "code",
   "execution_count": 40,
   "metadata": {},
   "outputs": [
    {
     "data": {
      "text/plain": [
       "['xgb_smo.pkl']"
      ]
     },
     "execution_count": 40,
     "metadata": {},
     "output_type": "execute_result"
    }
   ],
   "source": [
    "#XGBoost under SMOTE\n",
    "xgb_smo = xgboost.XGBClassifier()\n",
    "xgb_smo = xgb_smo.fit(x_resampled_smo, y_resampled_smo)\n",
    "joblib.dump(xgb_smo, 'xgb_smo.pkl')"
   ]
  },
  {
   "cell_type": "code",
   "execution_count": 33,
   "metadata": {},
   "outputs": [],
   "source": [
    "#the fourth resampling method: BorderlineSMOTE\n",
    "# Convert non-numeric values (e.g., '9E') to NaN\n",
    "x_train_cleaned = x_train.apply(pd.to_numeric, errors='coerce')\n",
    "\n",
    "# Fill NaN values with appropriate values (e.g., 0)\n",
    "x_train_cleaned.fillna(0, inplace=True)\n",
    "\n",
    "bdlsmo = BorderlineSMOTE(sampling_strategy='auto',random_state=None,  kind='borderline-1') \n",
    "x_resampled_bdlsmo, y_resampled_bdlsmo = bdlsmo.fit_resample(x_train_cleaned, y_train)\n",
    "x_resampled_bdlsmo.to_csv('x_resampled_bdlsmo.csv',index=False)\n",
    "y_resampled_bdlsmo.to_csv('y_resampled_bdlsmo.csv',index=False)"
   ]
  },
  {
   "cell_type": "code",
   "execution_count": 37,
   "metadata": {},
   "outputs": [
    {
     "data": {
      "text/plain": [
       "['rfc_bdlsmo.pkl']"
      ]
     },
     "execution_count": 37,
     "metadata": {},
     "output_type": "execute_result"
    }
   ],
   "source": [
    "#Random Forset under BorderlineSMOTE\n",
    "\n",
    "rfc_bdlsmo = RandomForestClassifier(random_state = None)\n",
    "rfc_bdlsmo = rfc_bdlsmo.fit(x_resampled_bdlsmo, y_resampled_bdlsmo)\n",
    "joblib.dump(rfc_bdlsmo, 'rfc_bdlsmo.pkl')"
   ]
  },
  {
   "cell_type": "code",
   "execution_count": 38,
   "metadata": {},
   "outputs": [
    {
     "name": "stderr",
     "output_type": "stream",
     "text": [
      "/Users/violayang/opt/anaconda3/lib/python3.9/site-packages/sklearn/linear_model/_logistic.py:814: ConvergenceWarning: lbfgs failed to converge (status=1):\n",
      "STOP: TOTAL NO. of ITERATIONS REACHED LIMIT.\n",
      "\n",
      "Increase the number of iterations (max_iter) or scale the data as shown in:\n",
      "    https://scikit-learn.org/stable/modules/preprocessing.html\n",
      "Please also refer to the documentation for alternative solver options:\n",
      "    https://scikit-learn.org/stable/modules/linear_model.html#logistic-regression\n",
      "  n_iter_i = _check_optimize_result(\n"
     ]
    },
    {
     "data": {
      "text/plain": [
       "['lr_bdlsmo.pkl']"
      ]
     },
     "execution_count": 38,
     "metadata": {},
     "output_type": "execute_result"
    }
   ],
   "source": [
    "#logistic regression under BorderlineSMOTE\n",
    "\n",
    "lr_bdlsmo = LogisticRegression(random_state=None)\n",
    "lr_bdlsmo = lr_bdlsmo.fit(x_resampled_bdlsmo, y_resampled_bdlsmo)\n",
    "joblib.dump(lr_bdlsmo, 'lr_bdlsmo.pkl')"
   ]
  },
  {
   "cell_type": "code",
   "execution_count": 39,
   "metadata": {},
   "outputs": [
    {
     "data": {
      "text/plain": [
       "['nb_bdlsmo.pkl']"
      ]
     },
     "execution_count": 39,
     "metadata": {},
     "output_type": "execute_result"
    }
   ],
   "source": [
    "#Naive Bayes under the BorderlineSMOTE\n",
    "\n",
    "nb_bdlsmo = GaussianNB()\n",
    "nb_bdlsmo = nb_bdlsmo.fit(x_resampled_bdlsmo, y_resampled_bdlsmo)\n",
    "joblib.dump(nb_bdlsmo, 'nb_bdlsmo.pkl')"
   ]
  },
  {
   "cell_type": "code",
   "execution_count": 34,
   "metadata": {},
   "outputs": [
    {
     "data": {
      "text/plain": [
       "['xgb_bdlsmo.pkl']"
      ]
     },
     "execution_count": 34,
     "metadata": {},
     "output_type": "execute_result"
    }
   ],
   "source": [
    "#XGBoost under BorderlineSMOTE\n",
    "xgb_bdlsmo = xgboost.XGBClassifier()\n",
    "xgb_bdlsmo = xgb_bdlsmo.fit(x_resampled_bdlsmo, y_resampled_bdlsmo)\n",
    "joblib.dump(xgb_bdlsmo, 'xgb_bdlsmo.pkl')"
   ]
  },
  {
   "cell_type": "code",
   "execution_count": 35,
   "metadata": {},
   "outputs": [],
   "source": [
    "#the fifth resampling method: NearMiss\n",
    "\n",
    "# Convert non-numeric values (e.g., '9E') to NaN\n",
    "x_train_cleaned = x_train.apply(pd.to_numeric, errors='coerce')\n",
    "\n",
    "# Fill NaN values with appropriate values (e.g., 0)\n",
    "x_train_cleaned.fillna(0, inplace=True)\n",
    "\n",
    "# Apply NearMiss to the cleaned data\n",
    "nm = NearMiss(sampling_strategy='auto', version=3)\n",
    "x_resampled_nm, y_resampled_nm = nm.fit_resample(x_train_cleaned, y_train)\n",
    "\n",
    "# Convert the resampled data back to dataframes if needed\n",
    "x_resampled_nm = pd.DataFrame(x_resampled_nm, columns=x_train_cleaned.columns)\n",
    "y_resampled_nm = pd.Series(y_resampled_nm)\n",
    "\n",
    "# Save the resampled data to CSV files\n",
    "x_resampled_nm.to_csv('x_resampled_nm.csv', index=False)\n",
    "y_resampled_nm.to_csv('y_resampled_nm.csv', index=False)\n"
   ]
  },
  {
   "cell_type": "code",
   "execution_count": 21,
   "metadata": {},
   "outputs": [
    {
     "data": {
      "text/plain": [
       "['rfc_nm.pkl']"
      ]
     },
     "execution_count": 21,
     "metadata": {},
     "output_type": "execute_result"
    }
   ],
   "source": [
    "#Random Forset Classifier under NearMiss\n",
    "\n",
    "rfc_nm = RandomForestClassifier(random_state = None)\n",
    "rfc_nm = rfc_nm.fit(x_resampled_nm, y_resampled_nm)\n",
    "joblib.dump(rfc_nm, 'rfc_nm.pkl')"
   ]
  },
  {
   "cell_type": "code",
   "execution_count": 22,
   "metadata": {},
   "outputs": [
    {
     "name": "stderr",
     "output_type": "stream",
     "text": [
      "/Users/violayang/opt/anaconda3/lib/python3.9/site-packages/sklearn/linear_model/_logistic.py:814: ConvergenceWarning: lbfgs failed to converge (status=1):\n",
      "STOP: TOTAL NO. of ITERATIONS REACHED LIMIT.\n",
      "\n",
      "Increase the number of iterations (max_iter) or scale the data as shown in:\n",
      "    https://scikit-learn.org/stable/modules/preprocessing.html\n",
      "Please also refer to the documentation for alternative solver options:\n",
      "    https://scikit-learn.org/stable/modules/linear_model.html#logistic-regression\n",
      "  n_iter_i = _check_optimize_result(\n"
     ]
    },
    {
     "data": {
      "text/plain": [
       "['lr_nm.pkl']"
      ]
     },
     "execution_count": 22,
     "metadata": {},
     "output_type": "execute_result"
    }
   ],
   "source": [
    "#logistic regression under NearMiss\n",
    "\n",
    "lr_nm = LogisticRegression(random_state=None)\n",
    "lr_nm = lr_nm.fit(x_resampled_nm, y_resampled_nm)\n",
    "joblib.dump(lr_nm, 'lr_nm.pkl')"
   ]
  },
  {
   "cell_type": "code",
   "execution_count": 23,
   "metadata": {},
   "outputs": [
    {
     "data": {
      "text/plain": [
       "['nb_nm.pkl']"
      ]
     },
     "execution_count": 23,
     "metadata": {},
     "output_type": "execute_result"
    }
   ],
   "source": [
    "#Naive Bayes under NearMiss\n",
    "\n",
    "nb_nm = GaussianNB()\n",
    "nb_nm = nb_nm.fit(x_resampled_nm, y_resampled_nm)\n",
    "joblib.dump(nb_nm, 'nb_nm.pkl')"
   ]
  },
  {
   "cell_type": "code",
   "execution_count": 36,
   "metadata": {},
   "outputs": [
    {
     "data": {
      "text/plain": [
       "['xgb_nm.pkl']"
      ]
     },
     "execution_count": 36,
     "metadata": {},
     "output_type": "execute_result"
    }
   ],
   "source": [
    "#XGBoost under NearMiss\n",
    "xgb_nm = xgboost.XGBClassifier()\n",
    "xgb_nm = xgb_nm.fit(x_resampled_nm, y_resampled_nm)\n",
    "joblib.dump(xgb_nm, 'xgb_nm.pkl')"
   ]
  },
  {
   "cell_type": "code",
   "execution_count": 37,
   "metadata": {},
   "outputs": [],
   "source": [
    "#the sixthth resampling method: OneSidedSelection\n",
    "\n",
    "# Convert non-numeric values (e.g., '9E') to NaN\n",
    "x_train_cleaned = x_train.apply(pd.to_numeric, errors='coerce')\n",
    "\n",
    "# Fill NaN values with appropriate values (e.g., 0)\n",
    "x_train_cleaned.fillna(0, inplace=True)\n",
    "\n",
    "# Apply OSS to the cleaned data\n",
    "oss = OneSidedSelection(sampling_strategy='auto', random_state=None)\n",
    "x_resampled_oss, y_resampled_oss = oss.fit_resample(x_train_cleaned, y_train)\n",
    "\n",
    "# Convert the resampled data back to dataframes if needed\n",
    "x_resampled_oss = pd.DataFrame(x_resampled_oss, columns=x_train_cleaned.columns)\n",
    "y_resampled_oss = pd.Series(y_resampled_oss)\n",
    "\n",
    "# Save the resampled data to CSV files\n",
    "x_resampled_oss.to_csv('x_resampled_oss.csv', index=False)\n",
    "y_resampled_oss.to_csv('y_resampled_oss.csv', index=False)"
   ]
  },
  {
   "cell_type": "code",
   "execution_count": 18,
   "metadata": {},
   "outputs": [
    {
     "data": {
      "text/plain": [
       "['rfc_oss.pkl']"
      ]
     },
     "execution_count": 18,
     "metadata": {},
     "output_type": "execute_result"
    }
   ],
   "source": [
    "#Random Forset under OneSidedSelection\n",
    "\n",
    "rfc_oss = RandomForestClassifier(random_state = None)\n",
    "rfc_oss = rfc_oss.fit(x_resampled_oss, y_resampled_oss)\n",
    "joblib.dump(rfc_oss, 'rfc_oss.pkl')"
   ]
  },
  {
   "cell_type": "code",
   "execution_count": 17,
   "metadata": {},
   "outputs": [
    {
     "name": "stderr",
     "output_type": "stream",
     "text": [
      "/Users/violayang/opt/anaconda3/lib/python3.9/site-packages/sklearn/linear_model/_logistic.py:814: ConvergenceWarning: lbfgs failed to converge (status=1):\n",
      "STOP: TOTAL NO. of ITERATIONS REACHED LIMIT.\n",
      "\n",
      "Increase the number of iterations (max_iter) or scale the data as shown in:\n",
      "    https://scikit-learn.org/stable/modules/preprocessing.html\n",
      "Please also refer to the documentation for alternative solver options:\n",
      "    https://scikit-learn.org/stable/modules/linear_model.html#logistic-regression\n",
      "  n_iter_i = _check_optimize_result(\n"
     ]
    },
    {
     "data": {
      "text/plain": [
       "['lr_oss.pkl']"
      ]
     },
     "execution_count": 17,
     "metadata": {},
     "output_type": "execute_result"
    }
   ],
   "source": [
    "#logistic regression under OneSidedSelection\n",
    "\n",
    "lr_oss = LogisticRegression(random_state=None)\n",
    "lr_oss = lr_oss.fit(x_resampled_oss, y_resampled_oss)\n",
    "joblib.dump(lr_oss, 'lr_oss.pkl')"
   ]
  },
  {
   "cell_type": "code",
   "execution_count": 19,
   "metadata": {},
   "outputs": [
    {
     "data": {
      "text/plain": [
       "['nb_oss.pkl']"
      ]
     },
     "execution_count": 19,
     "metadata": {},
     "output_type": "execute_result"
    }
   ],
   "source": [
    "#Naive Bayes under OneSidedSelection\n",
    "\n",
    "nb_oss = GaussianNB()\n",
    "nb_oss = nb_oss.fit(x_resampled_oss, y_resampled_oss)\n",
    "joblib.dump(nb_oss, 'nb_oss.pkl')"
   ]
  },
  {
   "cell_type": "code",
   "execution_count": 39,
   "metadata": {},
   "outputs": [
    {
     "data": {
      "text/plain": [
       "['xgb_oss.pkl']"
      ]
     },
     "execution_count": 39,
     "metadata": {},
     "output_type": "execute_result"
    }
   ],
   "source": [
    "#XGBoost under OSS\n",
    "xgb_oss = xgboost.XGBClassifier()\n",
    "xgb_oss = xgb_oss.fit(x_resampled_oss, y_resampled_oss)\n",
    "joblib.dump(xgb_oss, 'xgb_oss.pkl')\n"
   ]
  },
  {
   "cell_type": "code",
   "execution_count": 15,
   "metadata": {},
   "outputs": [],
   "source": [
    "#the seventh resampling method: SMOTETomek\n",
    "\n",
    "# Convert non-numeric values (e.g., '9E') to NaN\n",
    "x_train_cleaned = x_train.apply(pd.to_numeric, errors='coerce')\n",
    "\n",
    "# Fill NaN values with appropriate values (e.g., 0)\n",
    "x_train_cleaned.fillna(0, inplace=True)\n",
    "\n",
    "# Apply SMOTETomek to the cleaned data\n",
    "smote_tomek = SMOTETomek(sampling_strategy='auto', random_state=None)\n",
    "x_resampled_smote_tomek, y_resampled_smote_tomek = smote_tomek.fit_resample(x_train_cleaned, y_train)\n",
    "\n",
    "# Convert the resampled data back to dataframes if needed\n",
    "x_resampled_smote_tomek = pd.DataFrame(x_resampled_smote_tomek, columns=x_train_cleaned.columns)\n",
    "y_resampled_smote_tomek = pd.Series(y_resampled_smote_tomek)\n",
    "\n",
    "# Save the resampled data to CSV files\n",
    "x_resampled_smote_tomek.to_csv('x_resampled_smote_tomek.csv', index=False)\n",
    "y_resampled_smote_tomek.to_csv('y_resampled_smote_tomek.csv', index=False)\n"
   ]
  },
  {
   "cell_type": "code",
   "execution_count": 16,
   "metadata": {},
   "outputs": [
    {
     "data": {
      "text/plain": [
       "['rfc_smotetomek.pkl']"
      ]
     },
     "execution_count": 16,
     "metadata": {},
     "output_type": "execute_result"
    }
   ],
   "source": [
    "#Random Forset under SMOTETomek\n",
    "\n",
    "rfc_smotetomek = RandomForestClassifier(random_state = None)\n",
    "rfc_smotetomek = rfc_smotetomek.fit(x_resampled_smote_tomek, y_resampled_smote_tomek)\n",
    "joblib.dump(rfc_smotetomek, 'rfc_smotetomek.pkl')"
   ]
  },
  {
   "cell_type": "code",
   "execution_count": 17,
   "metadata": {},
   "outputs": [
    {
     "name": "stderr",
     "output_type": "stream",
     "text": [
      "/Users/violayang/opt/anaconda3/lib/python3.9/site-packages/sklearn/linear_model/_logistic.py:814: ConvergenceWarning: lbfgs failed to converge (status=1):\n",
      "STOP: TOTAL NO. of ITERATIONS REACHED LIMIT.\n",
      "\n",
      "Increase the number of iterations (max_iter) or scale the data as shown in:\n",
      "    https://scikit-learn.org/stable/modules/preprocessing.html\n",
      "Please also refer to the documentation for alternative solver options:\n",
      "    https://scikit-learn.org/stable/modules/linear_model.html#logistic-regression\n",
      "  n_iter_i = _check_optimize_result(\n"
     ]
    },
    {
     "data": {
      "text/plain": [
       "['lr_smotetomek.pkl']"
      ]
     },
     "execution_count": 17,
     "metadata": {},
     "output_type": "execute_result"
    }
   ],
   "source": [
    "#logistic regression under SMOTETomek\n",
    "\n",
    "lr_smotetomek = LogisticRegression(random_state=None)\n",
    "lr_smotetomek = lr_smotetomek.fit(x_resampled_smote_tomek, y_resampled_smote_tomek)\n",
    "joblib.dump(lr_smotetomek, 'lr_smotetomek.pkl')"
   ]
  },
  {
   "cell_type": "code",
   "execution_count": 18,
   "metadata": {},
   "outputs": [
    {
     "data": {
      "text/plain": [
       "['nb_smotetomek.pkl']"
      ]
     },
     "execution_count": 18,
     "metadata": {},
     "output_type": "execute_result"
    }
   ],
   "source": [
    "#Naive Bayes under SMOTETomek\n",
    "\n",
    "nb_smotetomek = GaussianNB()\n",
    "nb_smotetomek = nb_smotetomek.fit(x_resampled_smote_tomek, y_resampled_smote_tomek)\n",
    "joblib.dump(nb_smotetomek, 'nb_smotetomek.pkl')"
   ]
  },
  {
   "cell_type": "code",
   "execution_count": 38,
   "metadata": {},
   "outputs": [
    {
     "data": {
      "text/plain": [
       "['xgb_smotetomek.pkl']"
      ]
     },
     "execution_count": 38,
     "metadata": {},
     "output_type": "execute_result"
    }
   ],
   "source": [
    "#XGBoost under SMOTETomek\n",
    "\n",
    "xgb_smotetomek = xgboost.XGBClassifier()\n",
    "xgb_smotetomek = xgb_smotetomek.fit(x_resampled_smote_tomek, y_resampled_smote_tomek)\n",
    "joblib.dump(xgb_smotetomek, 'xgb_smotetomek.pkl')"
   ]
  }
 ],
 "metadata": {
  "kernelspec": {
   "display_name": "base",
   "language": "python",
   "name": "python3"
  },
  "language_info": {
   "codemirror_mode": {
    "name": "ipython",
    "version": 3
   },
   "file_extension": ".py",
   "mimetype": "text/x-python",
   "name": "python",
   "nbconvert_exporter": "python",
   "pygments_lexer": "ipython3",
   "version": "3.9.12"
  },
  "orig_nbformat": 4
 },
 "nbformat": 4,
 "nbformat_minor": 2
}
